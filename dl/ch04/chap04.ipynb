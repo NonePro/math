{
 "cells": [
  {
   "attachments": {},
   "cell_type": "markdown",
   "metadata": {},
   "source": [
    "# "
   ]
  },
  {
   "attachments": {},
   "cell_type": "markdown",
   "metadata": {},
   "source": [
    "# 神经网络的学习\n",
    "\n",
    "## 4.1 从数据中学习\n",
    "### 4.1.1 数据驱动\n",
    "### 4.1.2 训练数据和测试数据\n",
    "\n",
    "机器学习中，一般将数据分为训练数据和测试数据两部分来进行学习和实验等。\n",
    "\n",
    "首先，使用训练数据进行学习，寻找最优的参数；然后，使用测试数据评价训练得到的模型的实际能力。\n",
    "\n",
    "为什么需要将数据分为训练数据和测试数据呢？因为我们追求的是模型的泛化能力。为了正确评价模型的泛化能力，就必须划分训练数据和测试数据。另外，训练数据也可以成为监督数据。\n",
    "\n",
    "只对某个数据集过度拟合的状态称为过拟合（over fitting）。\n",
    "\n",
    "## 4.2 损失函数\n",
    "\n",
    "神经网络以某个指标为线索寻找最优权重参数。神经网络的学习中所用的指标称为损失函数（loss function）。这个损失函数可以使用任意函数，但一般用均方误差和交叉熵误差等。\n",
    "\n",
    "### 4.2.1 均方误差\n",
    "\n",
    "可以用作损失函数的函数有很多，其中最有名的是均方误差（mean squared error）。均方误差如下式所示。\n",
    "$$\n",
    "E = \\frac{1}{2}\\sum_k(y_k-t_k)^2        \\qquad \\qquad (4.1)\n",
    "\\\\\n",
    "其中，y_k表示神经网络的输出，t_k表示监督数据，k表示数的维数。\n",
    "$$\n"
   ]
  },
  {
   "cell_type": "code",
   "execution_count": null,
   "metadata": {},
   "outputs": [],
   "source": []
  },
  {
   "cell_type": "code",
   "execution_count": 2,
   "metadata": {},
   "outputs": [
    {
     "name": "stdout",
     "output_type": "stream",
     "text": [
      "0.09750000000000003\n",
      "0.5975\n"
     ]
    }
   ],
   "source": [
    "import numpy as np\n",
    "\n",
    "\n",
    "def mean_squared_error(y, t):\n",
    "    return 0.5 * np.sum((y-t)**2)\n",
    "\n",
    "# 设2为正确解\n",
    "t = [0,0,1,0,0,0,0,0,0,0]\n",
    "y = [0.1,0.05,0.6,0.0,0.05,0.1,0.0,0.1,0.0,0.0]\n",
    "e = mean_squared_error(np.array(y),np.array(t))\n",
    "\n",
    "print(e)\n",
    "\n",
    "y = [0.1,0.05,0.1,0.0,0.05,0.1,0.0,0.6,0.0,0.0]\n",
    "e = mean_squared_error(np.array(y),np.array(t))\n",
    "print(e)"
   ]
  },
  {
   "attachments": {},
   "cell_type": "markdown",
   "metadata": {},
   "source": [
    "### 4.2.2 交叉熵误差\n",
    "\n",
    "除了均方误差之外，交叉熵误差（cross entropy error）也经常用作损失函数。交叉熵误差如下：\n",
    "\n",
    "$$\n",
    "E = - \\sum_k t_k \\ln y_k         \\qquad \\qquad (4.2)\n",
    "\n",
    "其中y_k是神经网络的输出，t_k是正确解标签。并且，t_k中只有正确解的标签的索引为1，其它均为0。因此，式（4.2）实际上只计算对应正确解标签的输出的自然对数。\n",
    "$$"
   ]
  },
  {
   "cell_type": "code",
   "execution_count": 11,
   "metadata": {},
   "outputs": [
    {
     "data": {
      "image/png": "[encoded data removed]",
      "text/plain": [
       "<Figure size 640x480 with 1 Axes>"
      ]
     },
     "metadata": {},
     "output_type": "display_data"
    }
   ],
   "source": [
    "import numpy as np\n",
    "import matplotlib.pylab as plt\n",
    "\n",
    "x = np.arange(1e-7, 1.0, 0.01)\n",
    "y = np.log(x)\n",
    "\n",
    "plt.plot(x, y)\n",
    "plt.ylim(-5.0, 1.0)\n",
    "plt.show()"
   ]
  },
  {
   "cell_type": "code",
   "execution_count": 13,
   "metadata": {},
   "outputs": [
    {
     "name": "stdout",
     "output_type": "stream",
     "text": [
      "0.510825457099338\n",
      "2.302584092994546\n"
     ]
    }
   ],
   "source": [
    "def cross_entropy_error(y, t):\n",
    "    delta = 1e-7\n",
    "    return -np.sum(t * np.log(y + delta))\n",
    "\n",
    "t = [0,0,1,0,0,0,0,0,0,0]\n",
    "y = [0.1,0.05,0.6,0.0,0.05,0.1,0.0,0.1,0.0,0.0]\n",
    "e = cross_entropy_error(np.array(y),np.array(t))\n",
    "print(e)\n",
    "\n",
    "y = [0.1,0.05,0.1,0.0,0.05,0.1,0.0,0.6,0.0,0.0]\n",
    "e = cross_entropy_error(np.array(y),np.array(t))\n",
    "print(e)"
   ]
  }
 ],
 "metadata": {
  "kernelspec": {
   "display_name": "manim",
   "language": "python",
   "name": "python3"
  },
  "language_info": {
   "codemirror_mode": {
    "name": "ipython",
    "version": 3
   },
   "file_extension": ".py",
   "mimetype": "text/x-python",
   "name": "python",
   "nbconvert_exporter": "python",
   "pygments_lexer": "ipython3",
   "version": "3.8.16"
  },
  "orig_nbformat": 4
 },
 "nbformat": 4,
 "nbformat_minor": 2
}

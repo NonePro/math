{
   "cells": [
      {
         "attachments": {},
         "cell_type": "markdown",
         "metadata": {},
         "source": [
            "# 第3章 神经网络\n",
            "\n",
            "## 3.1 从感知机到神经网络\n",
            "\n",
            "### 3.1.1 神经网络的例子\n",
            "\n",
            "输入层  输出层  中间层\n",
            "\n",
            "### 3.1.2 复习感知机"
         ]
      },
      {
         "attachments": {},
         "cell_type": "markdown",
         "metadata": {},
         "source": [
            "$$\n",
            "y = \n",
            "\\begin{cases}\n",
            "    0 & (b + w_1x_1 + w_2x_2 \\le 0 )\\\\\n",
            "    1 & (b + w_1x_1 + w_2x_2 \\gt 0 )\\\\\n",
            "\\end{cases}\n",
            "\\qquad \\qquad (3.1)\n",
            "$$\n",
            "b是被称为偏置的参数，用于控制神经元被激活的容易程度。\n",
            "\n",
            "而w_1和w_2是表示各个信号的权重的参数，用于控制各个信号的重要性。"
         ]
      },
      {
         "attachments": {},
         "cell_type": "markdown",
         "metadata": {},
         "source": [
            "$$\n",
            " y= h(b + w_1x_1 + w_2x_2) \\qquad \\qquad  (3.2)\\\\\n",
            " \n",
            " h(x) = \n",
            "\\begin{cases}\n",
            "0 & (x \\le 0) \\\\\n",
            "1 & (x \\gt 0)\n",
            " \\end{cases}\n",
            "\n",
            "\\qquad \\qquad \\quad (3.3)\n",
            "\n",
            "$$"
         ]
      },
      {
         "attachments": {},
         "cell_type": "markdown",
         "metadata": {},
         "source": [
            "### 3.1.3 激活函数登场\n",
            "\n",
            "$$\n",
            "\n",
            "a = b + w_1x_1 + w_2x_2 \\qquad \\qquad (3.4)\\\\\n",
            "y = h(a) \\qquad \\qquad \\qquad \\qquad \\quad (3.5)\n",
            "\n",
            "$$\n",
            "\n",
            "h表示激活函数。"
         ]
      },
      {
         "attachments": {},
         "cell_type": "markdown",
         "metadata": {},
         "source": [
            "## 3.2 激活函数\n",
            "\n",
            "### 3.2.1 sigmoid 函数 \n",
            "\n",
            "$$\n",
            "\n",
            "h(x) = \\frac{1}{1+e^{-x}}  \\qquad \\qquad (3.6)\n",
            "\n",
            "$$\n",
            "\n",
            "\n",
            "### 3.2.2 阶跃函数的实现"
         ]
      },
      {
         "cell_type": "code",
         "execution_count": 2,
         "metadata": {},
         "outputs": [
            {
               "name": "stdout",
               "output_type": "stream",
               "text": [
                  "[-1.  1.  2.]\n",
                  "[False  True  True]\n",
                  "[0 1 1]\n"
               ]
            }
         ],
         "source": [
            "import numpy as np\n",
            "def step_function_simple(x):\n",
            "    if x > 0:\n",
            "        return 1\n",
            "    else:\n",
            "        return 0\n",
            "\n",
            "def step_function(x):\n",
            "    y = x > 0\n",
            "    return y.astype(np.int8)\n",
            "\n",
            "x = np.array([-1.0, 1.0, 2.0])\n",
            "print(x)\n",
            "y = x > 0\n",
            "print(y)\n",
            "y = y.astype(np.int8)\n",
            "print(y)"
         ]
      },
      {
         "attachments": {},
         "cell_type": "markdown",
         "metadata": {},
         "source": [
            "### 3.2.3 跃阶函数的图形"
         ]
      },
      {
         "cell_type": "code",
         "execution_count": 3,
         "metadata": {},
         "outputs": [
            {
               "data": {
                  "image/png": "[encoded data removed]",
                  "text/plain": [
                     "<Figure size 640x480 with 1 Axes>"
                  ]
               },
               "metadata": {},
               "output_type": "display_data"
            }
         ],
         "source": [
            "import numpy as np\n",
            "import matplotlib.pylab as plt\n",
            "\n",
            "def step_function(x):\n",
            "    return np.array(x > 0, dtype=np.int8)\n",
            "\n",
            "x = np.arange(-5.0, 5.0, 0.1)\n",
            "y = step_function(x)\n",
            "plt.plot(x,y)\n",
            "plt.ylim(-0.1, 1.1)\n",
            "plt.show()"
         ]
      },
      {
         "attachments": {},
         "cell_type": "markdown",
         "metadata": {},
         "source": []
      },
      {
         "cell_type": "code",
         "execution_count": 4,
         "metadata": {},
         "outputs": [
            {
               "data": {
                  "image/png": "[encoded data removed]",
                  "text/plain": [
                     "<Figure size 640x480 with 1 Axes>"
                  ]
               },
               "metadata": {},
               "output_type": "display_data"
            }
         ],
         "source": [
            "import numpy as np\n",
            "import matplotlib.pylab as plt\n",
            "\n",
            "def sigmoid(x):\n",
            "    return 1 / (1 + np.exp(-x))\n",
            "\n",
            "x = np.arange(-5.0, 5.0, 0.1)\n",
            "y = sigmoid(x)\n",
            "plt.plot(x, y)\n",
            "plt.ylim(-0.1, 1.1) # 指定y轴的范围\n",
            "plt.show()"
         ]
      },
      {
         "attachments": {},
         "cell_type": "markdown",
         "metadata": {},
         "source": [
            "### 3.2.5 sigmoid函数和阶跃函数的比较\n",
            "\n",
            "* sigmoid函数的平滑性对神经网络的学习具有重要意义\n",
            "* 感知机中神经元之间流动的是0或1的二元信号，神经网络中流动的连续的实数值信号。\n",
            "* 形状相似，取值范围一致。\n",
            "* 两者都属于非线性函数。\n",
            "\n",
            "### 3.2.6 非线性函数\n",
            "\n",
            "神经网络的激活函数必须使用非线性函数。因为多个线性函数的组合总能使用一个线性函数来表示，加深曾经网络依然可以用另一个一层神经网络来表示，加深的意义就不存在了。\n",
            "\n",
            "$$ 设h(x) = cx, y(x)=h(h(h(x))) = c^3x, 若 a =c^3 则 y(x) = ax. $$\n",
            "\n",
            "为了发挥叠加层所带来的优势，激活函数必须使用非线性函数。\n",
            "\n",
            "### 3.2.7 ReLU函数\n",
            "\n",
            "在神经网络发展的历史上，sigmoid函数早就开始使用了，而最近则主要使用ReLU(Rectified Liner Unit)函数。\n",
            "$$\n",
            "h(x) = \n",
            "\\begin{cases}\n",
            "x & (x \\gt 0) \\\\\n",
            "0 & (x \\le 0)\n",
            "\\end{cases}\n",
            "\\qquad \\qquad \\qquad (3.7) \n",
            "$$"
         ]
      },
      {
         "cell_type": "code",
         "execution_count": 5,
         "metadata": {},
         "outputs": [
            {
               "data": {
                  "image/png": "[encoded data removed]",
                  "text/plain": [
                     "<Figure size 640x480 with 1 Axes>"
                  ]
               },
               "metadata": {},
               "output_type": "display_data"
            }
         ],
         "source": [
            "import numpy as np\n",
            "import matplotlib.pylab as plt\n",
            "\n",
            "def relu(x):\n",
            "    return np.maximum(0, x)\n",
            "\n",
            "x = np.arange(-5.0, 5.0, 0.1)\n",
            "y = relu(x)\n",
            "plt.plot(x, y)\n",
            "plt.ylim(-1, 5.1) # 指定y轴的范围\n",
            "plt.show()"
         ]
      },
      {
         "attachments": {},
         "cell_type": "markdown",
         "metadata": {},
         "source": [
            "## 3.3 多维数组的运算\n",
            "\n",
            "### 3.3.1 多维数组"
         ]
      },
      {
         "cell_type": "code",
         "execution_count": 6,
         "metadata": {},
         "outputs": [
            {
               "name": "stdout",
               "output_type": "stream",
               "text": [
                  "[1 2 3 4]\n",
                  "1\n",
                  "(4,)\n",
                  "4\n",
                  "_____________________\n",
                  "[[1 2]\n",
                  " [3 4]\n",
                  " [5 6]]\n",
                  "2\n",
                  "(3, 2)\n"
               ]
            }
         ],
         "source": [
            "import numpy as np\n",
            "A = np.array([1,2,3,4])\n",
            "print(A)\n",
            "print(np.ndim(A))\n",
            "print(A.shape)\n",
            "print(A.shape[0])\n",
            "\n",
            "print('_____________________')\n",
            "\n",
            "B = np.array([[1,2],[3,4],[5,6]])\n",
            "print(B)\n",
            "print(np.ndim(B))\n",
            "print(B.shape)"
         ]
      },
      {
         "attachments": {},
         "cell_type": "markdown",
         "metadata": {},
         "source": [
            "### 3.3.2 矩阵乘法"
         ]
      },
      {
         "cell_type": "code",
         "execution_count": 7,
         "metadata": {},
         "outputs": [
            {
               "name": "stdout",
               "output_type": "stream",
               "text": [
                  "======= 2x2 dot 2x2 = 2x2 =======\n",
                  "(2, 2)\n",
                  "(2, 2)\n",
                  "[[19 22]\n",
                  " [43 50]]\n",
                  "====== 2x3 dot 3x2 = 2x2 =======\n",
                  "(2, 3)\n",
                  "(3, 2)\n",
                  "[[22 28]\n",
                  " [49 64]]\n",
                  "====== 3x2 dot 2x1 = 3x1 ======\n",
                  "(3, 2)\n",
                  "(2,)\n",
                  "[23 53 83]\n"
               ]
            }
         ],
         "source": [
            "import numpy as np\n",
            "\n",
            "print('======= 2x2 dot 2x2 = 2x2 =======')\n",
            "A = np.array([[1,2],[3,4]])\n",
            "print(A.shape)\n",
            "B = np.array([[5,6],[7,8]])\n",
            "print(B.shape)\n",
            "print(np.dot(A,B))\n",
            "\n",
            "print('====== 2x3 dot 3x2 = 2x2 =======')\n",
            "\n",
            "C = np.array([[1,2,3],[4,5,6]])\n",
            "print(C.shape)\n",
            "D = np.array([[1,2],[3,4],[5,6]])\n",
            "print(D.shape)\n",
            "print(np.dot(C,D))\n",
            "\n",
            "print('====== 3x2 dot 2x1 = 3x1 ======') \n",
            "\n",
            "E = np.array([[1,2],[3,4],[5,6]])\n",
            "print(E.shape)\n",
            "F = np.array([7,8])\n",
            "print(F.shape)\n",
            "print(np.dot(E,F))"
         ]
      },
      {
         "attachments": {},
         "cell_type": "markdown",
         "metadata": {},
         "source": [
            "### 3.3.3 神经网络的内积"
         ]
      },
      {
         "cell_type": "code",
         "execution_count": 8,
         "metadata": {},
         "outputs": [
            {
               "name": "stdout",
               "output_type": "stream",
               "text": [
                  "(2,)\n",
                  "(2, 3)\n",
                  "[ 5 11 17]\n",
                  "(3,)\n"
               ]
            }
         ],
         "source": [
            "import numpy as np\n",
            "\n",
            "X = np.array([1,2])\n",
            "print(X.shape)\n",
            "\n",
            "W = np.array([[1,3,5],[2,4,6]])\n",
            "print(W.shape)\n",
            "\n",
            "Y = np.dot(X,W)\n",
            "print(Y)\n",
            "print(Y.shape)"
         ]
      },
      {
         "attachments": {},
         "cell_type": "markdown",
         "metadata": {},
         "source": [
            "## 3.4 3层神经网络的实现\n",
            "\n",
            "$$\n",
            "a_1^{(1)} = w_{11}^{(1)}x_1 + w_{12}^{(1)}x_2+b_1^{(1)} \\qquad \\qquad (3.8) \n",
            "$$\n",
            "\n",
            "$$\n",
            "    \\mathbf{A}^{(1)} = \\mathbf{X} \\mathbf{W}^{(1)} + \\mathbf{B}^{(1)} \\qquad \\qquad \\qquad \\quad (3.9)\n",
            "$$"
         ]
      },
      {
         "cell_type": "code",
         "execution_count": 13,
         "metadata": {},
         "outputs": [
            {
               "name": "stdout",
               "output_type": "stream",
               "text": [
                  "(2, 3)\n",
                  "(2,)\n",
                  "(3,)\n",
                  "[0.3 0.7 1.1]\n",
                  "[0.57444252 0.66818777 0.75026011]\n",
                  "\n",
                  "\n",
                  "===== translate from 1 to 2 ====\n",
                  "(3,)\n",
                  "(3, 2)\n",
                  "(2,)\n",
                  "[0.51615984 1.21402696]\n",
                  "[0.62624937 0.7710107 ]\n",
                  "\n",
                  "\n",
                  "===== translate from 2 to 3 ====\n",
                  "[0.31682708 0.69627909]\n"
               ]
            }
         ],
         "source": [
            "import numpy as np\n",
            "\n",
            "X = np.array([1.0,0.5])\n",
            "W1 = np.array([[0.1,0.3,0.5],[0.2,0.4,0.6]])\n",
            "B1 = np.array([0.1,0.2,0.3])\n",
            "\n",
            "print(W1.shape)\n",
            "print(X.shape)\n",
            "print(B1.shape)\n",
            "\n",
            "A1 = np.dot(X,W1) + B1\n",
            "\n",
            "print(A1)\n",
            "\n",
            "Z1 = sigmoid(A1)\n",
            "print(Z1)\n",
            "\n",
            "print(\"\\n\\n===== translate from 1 to 2 ====\")\n",
            "\n",
            "W2 = np.array([[0.1,0.4],[0.2,0.5],[0.3,0.6]])\n",
            "B2 = np.array([0.1,0.2])\n",
            "print(Z1.shape)\n",
            "print(W2.shape)\n",
            "print(B2.shape)\n",
            "\n",
            "A2 = np.dot(Z1,W2) + B2\n",
            "print(A2)\n",
            "Z2 = sigmoid(A2)\n",
            "print(Z2)\n",
            "\n",
            "print(\"\\n\\n===== translate from 2 to 3 ====\")\n",
            "\n",
            "def identify_function(x):\n",
            "    return x\n",
            "\n",
            "W3 = np.array([[0.1,0.3],[0.2,0.4]])\n",
            "B3 = np.array([0.1,0.2])\n",
            "\n",
            "A3 = np.dot(Z2,W3) + B3\n",
            "Y = identify_function(A3)\n",
            "print(Y)\n",
            "\n"
         ]
      },
      {
         "cell_type": "code",
         "execution_count": null,
         "metadata": {},
         "outputs": [],
         "source": []
      }
   ],
   "metadata": {
      "kernelspec": {
         "display_name": "manim",
         "language": "python",
         "name": "python3"
      },
      "language_info": {
         "codemirror_mode": {
            "name": "ipython",
            "version": 3
         },
         "file_extension": ".py",
         "mimetype": "text/x-python",
         "name": "python",
         "nbconvert_exporter": "python",
         "pygments_lexer": "ipython3",
         "version": "3.8.16"
      },
      "orig_nbformat": 4
   },
   "nbformat": 4,
   "nbformat_minor": 2
}

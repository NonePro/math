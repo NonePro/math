{
 "cells": [
  {
   "cell_type": "markdown",
   "metadata": {},
   "source": [
    "# 第1章 概率\n",
    "\n",
    "## 1.1 引言\n",
    "\n",
    "## 1.2 样本空间和事件\n",
    "\n",
    "$样本空间\\Omega是某一实验所有可能结果的集合。$\n",
    "\n",
    "#### 有关集合的术语\n",
    "\n",
    "|    符号          | 含义            |\n",
    "|------------------| -------------- |\n",
    "|$\\Omega$          |  样本空间       |\n",
    "|$\\omega$          |  实验结果（点或者元素）       |\n",
    "|$A$               |  事件（$\\Omega的子集$）      |\n",
    "|$A^c$             |  集合A的余集（非$A$）      |\n",
    "|$A \\cup B$        |  $A和B的并集$      |\n",
    "|$A \\cap B 或 AB$  |  $A和B的交集$      |\n",
    "|$A - B$           |  $差集 \\omega \\in A 且 \\omega \\notin B$      |\n",
    "|$A \\subset B$     |  包含      |\n",
    "|$ \\emptyset $   |  零事件 (永不为真)    |\n",
    "|$ \\Omega $        |  必然事件 (永远为真)    |"
   ]
  },
  {
   "cell_type": "code",
   "execution_count": null,
   "metadata": {},
   "outputs": [],
   "source": []
  },
  {
   "cell_type": "markdown",
   "metadata": {},
   "source": []
  }
 ],
 "metadata": {
  "kernelspec": {
   "display_name": "Python 3.8.16 ('manim')",
   "language": "python",
   "name": "python3"
  },
  "language_info": {
   "name": "python",
   "version": "3.8.16"
  },
  "orig_nbformat": 4,
  "vscode": {
   "interpreter": {
    "hash": "ccae7c1883f2b722e92a0abce3d89ee444e96254023a053d1df8bee275360893"
   }
  }
 },
 "nbformat": 4,
 "nbformat_minor": 2
}
